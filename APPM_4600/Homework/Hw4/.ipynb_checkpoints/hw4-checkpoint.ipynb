{
 "cells": [
  {
   "cell_type": "code",
   "execution_count": 1,
   "id": "4cf87782-8826-4d75-8ed5-205d210f34ad",
   "metadata": {},
   "outputs": [],
   "source": [
    "from scipy import special\n",
    "import matplotlib.pyplot as plt\n",
    "import numpy as np\n"
   ]
  },
  {
   "cell_type": "code",
   "execution_count": 2,
   "id": "0c718344-f1eb-45f5-815f-c843aedd56e2",
   "metadata": {
    "jupyter": {
     "source_hidden": true
    }
   },
   "outputs": [],
   "source": [
    "def bisection(f, a, b, tol):\n",
    "\n",
    "    fa = f(a)\n",
    "    fb = f(b);\n",
    "    count = 1\n",
    "\n",
    "    if (fa * fb > 0):\n",
    "        ier = 1\n",
    "        astar = a\n",
    "\n",
    "        return [astar, ier,count]\n",
    "\n",
    "    #   verify end points are not a root\n",
    "    if (fa == 0):\n",
    "        astar = a\n",
    "        ier = 0\n",
    "\n",
    "        return [astar, ier,count]\n",
    "\n",
    "    if (fb == 0):\n",
    "        astar = b\n",
    "        ier = 0\n",
    "\n",
    "        return [astar, ier,count]\n",
    "\n",
    "    \n",
    "    d = 0.5 * (a + b)\n",
    "    while (abs(d - a) > tol):\n",
    "        fd = f(d)\n",
    "        #print(\"d = \",d,\", n = \", count)\n",
    "        if (fd == 0):\n",
    "            astar = d\n",
    "            ier = 0\n",
    "            print(astar)\n",
    "            return [astar, ier,count]\n",
    "        if (fa * fd < 0):\n",
    "            b = d\n",
    "        else:\n",
    "            a = d\n",
    "            fa = fd\n",
    "        d = 0.5 * (a + b)\n",
    "        count = count + 1\n",
    "    #      print('abs(d-a) = ', abs(d-a))\n",
    "\n",
    "    astar = d\n",
    "\n",
    "    ier = 0\n",
    "\n",
    "    return [astar, ier,count]"
   ]
  },
  {
   "cell_type": "code",
   "execution_count": 3,
   "id": "9396da44-884f-4070-9efe-590fcbb11033",
   "metadata": {
    "jupyter": {
     "source_hidden": true
    }
   },
   "outputs": [],
   "source": [
    "def newtons(f,fp,x0,Nmax,tol):\n",
    "    N = 0\n",
    "    if fp(x0) == 0:\n",
    "        print(\"Error: f'(x)=0. Method Failed. Try another x0 or method.\")\n",
    "        print(\"Method failed when n = \", N, \", x = \", x0)\n",
    "    x1 = x0 - f(x0)/fp(x0)\n",
    "    N = 1\n",
    "    seq = []\n",
    "\n",
    "    while np.abs(x1-x0)>tol and N<Nmax:\n",
    "        seq.append(x0)\n",
    "        x0 = x1\n",
    "        x1 = x1 = x0 - f(x0)/fp(x0)\n",
    "        N = N+1\n",
    "\n",
    "        if fp(x1) == 0:\n",
    "            print(\"Error: f'(x)=0. Method Failed. Try another x0 or method.\")\n",
    "            print(\"Method failed when n = \", N,\", x = \", x1)\n",
    "            break\n",
    "    return x1,N,seq"
   ]
  },
  {
   "cell_type": "code",
   "execution_count": 54,
   "id": "7c4c3ee2-be6e-4270-960c-60c623ce4a34",
   "metadata": {
    "jupyter": {
     "source_hidden": true
    }
   },
   "outputs": [],
   "source": [
    "def secantPrint(f,a,b,Nmax,tol):\n",
    "    p = []\n",
    "    \n",
    "    x0 = a\n",
    "    x1 = b\n",
    "    n = 0\n",
    "    print(\"x0---------,---|x0-x1|-----,log(|x0-x1|)--,N----\")\n",
    "    while np.abs(x0-x1)>tol and n<Nmax:\n",
    "        print(\"%0.9f\" %x0,\", %0.9f\" %np.abs(x0-x1),\", %0.9f\" %np.log10(np.abs(x0-x1)),\", \",n)\n",
    "        p.append(x0)\n",
    "        x0 = x1\n",
    "        x1 = x0 - (f(x0)*((x1)-(x0)))/(f(x1)-f(x0))\n",
    "        n = n+1\n",
    "\n",
    "    return x0,n,p"
   ]
  },
  {
   "cell_type": "code",
   "execution_count": null,
   "id": "0d40bddb-e938-4f19-9a4d-e80182c1a748",
   "metadata": {},
   "outputs": [],
   "source": [
    "def secant_method(f,x0,x1,tol,nmax,verb=False):\n",
    "#secant (quasi-newton) method to find root of f starting with guesses x0 and x1\n",
    "#Initialize iterates and iterate list\n",
    "    xnm=x0; xn=x1;\n",
    "    rn=np.array([x1]);\n",
    "    # function evaluations\n",
    "    fn=f(xn); fnm=f(xnm);\n",
    "    msec = (fn-fnm)/(xn-xnm);\n",
    "    nfun=2; #evaluation counter nfun\n",
    "    dtol=1e-10; #tolerance for derivative (being near 0)\n",
    "    if np.abs(msec)<dtol:\n",
    "    #If slope of secant is too small, secant will fail. Error message is\n",
    "    #displayed and code terminates.\n",
    "        if verb:\n",
    "            fprintf('\\n slope of secant at initial guess is near 0, try different x0,x1 \\n');\n",
    "        else:\n",
    "            n=0;\n",
    "        if verb:\n",
    "            print(\"\\n|--n--|----xn----|---|f(xn)|---|---|msec|---|\");\n",
    "            #Iteration runs until f(xn) is small enough or nmax iterations are\n",
    "    while n<=nmax:\n",
    "        if verb:\n",
    "            print(\"|--%d--|%1.8f|%1.8f|%1.8f|\" %(n,xn,np.abs(fn),np.abs(msec)));\n",
    "            pn = - fn/msec; #Secant step\n",
    "        if np.abs(pn)<tol or np.abs(fn)<2e-15:\n",
    "            break;\n",
    "    #Update guess adding Newton step, update xn-1\n",
    "        xnm = xn; #xn-1 is now xn\n",
    "        xn = xn + pn; #xn is now xn+pn\n",
    "    # Update info and loop\n",
    "        n+=1;\n",
    "        rn=np.append(rn,xn);\n",
    "        fnm = fn; #Note we can re-use this function evaluation\n",
    "        fn=f(xn); #So, only one extra evaluation is needed per iteration\n",
    "        msec = (fn-fnm)/(xn-xnm); # New slope of secant line\n",
    "        nfun+=1;\n",
    "        r=xn;\n",
    "        if n>=nmax:\n",
    "            print(\"Secant method failed to converge, niter=%d, nfun=%d, f(r)=%1.1e\\n'\" %(n,nfun,np.abs(fn)));\n",
    "        else:\n",
    "            print(\"Secant method converged succesfully, niter=%d, nfun=%d, f(r)= %1.1e\" %(n,nfun,np.abs(fn)));\n",
    "        return (r,rn,nfun)\n",
    "################################################################################\n",
    "################################################################################"
   ]
  },
  {
   "cell_type": "code",
   "execution_count": 55,
   "id": "3ca76319-61d4-4797-b15e-7b4e05a64b5a",
   "metadata": {
    "jupyter": {
     "source_hidden": true
    }
   },
   "outputs": [],
   "source": [
    "def newtonsPrint(f,fp,x0,Nmax,tol):\n",
    "    N = 0\n",
    "    if fp(x0) == 0:\n",
    "        print(\"Error: f'(x)=0. Method Failed. Try another x0 or method.\")\n",
    "        print(\"Method failed when n = \", N, \", x = \", x0)\n",
    "    x1 = x0 - f(x0)/fp(x0)\n",
    "    N = 1\n",
    "    seq = []\n",
    "    print(\"x0---------,---|x0-x1|-----,log(|x0-x1|)--,N----\")\n",
    "    while np.abs(x1-x0)>tol/2 and N<Nmax:\n",
    "        print(\"%0.9f\" %x0,\", %0.9f\" %np.abs(x0-x1),\", %0.9f\" %np.log10(np.abs(x0-x1)),\", \",N)\n",
    "        seq.append(x0)\n",
    "        x0 = x1\n",
    "        x1 = x1 = x0 - f(x0)/fp(x0)\n",
    "        N = N+1\n",
    "\n",
    "        if fp(x1) == 0:\n",
    "            print(\"Error: f'(x)=0. Method Failed. Try another x0 or method.\")\n",
    "            print(\"Method failed when n = \", N,\", x = \", x1)\n",
    "            break\n",
    "    return x1,N,seq"
   ]
  },
  {
   "cell_type": "code",
   "execution_count": 56,
   "id": "b1316f48-abf2-49ec-8197-3ae4b6b8cfc2",
   "metadata": {},
   "outputs": [
    {
     "name": "stdout",
     "output_type": "stream",
     "text": [
      "The depth to not freeze is  0.676961854507681  m\n",
      "Took  34  iterations. \n",
      "The depth to not freeze is  0.676961854462041  m\n",
      "Took  21  iterations. \n",
      "The depth to not freeze is  0.6769618545013728  m\n",
      "Took  20  iterations. \n"
     ]
    },
    {
     "data": {
      "image/png": "[encoded data removed]",
      "text/plain": [
       "<Figure size 640x480 with 1 Axes>"
      ]
     },
     "metadata": {},
     "output_type": "display_data"
    }
   ],
   "source": [
    "Ti = 20\n",
    "Ts = -15\n",
    "alpha = 0.138e-6\n",
    "T = lambda x,t: special.erf(x/(2*np.sqrt(alpha*t)))*(Ti-Ts)+Ts\n",
    "\n",
    "# Find the value of x when t=60 days\n",
    "\n",
    "# convert t to seconds so it matches alpha units\n",
    "ta = 60*3600*24 #s\n",
    "# solve T = Ta ==> T-Ta = 0\n",
    "f = lambda x: T(x,ta)\n",
    "fp = lambda x: 2/(2*np.sqrt(alpha*ta*np.pi))*np.exp(-x**2)*(Ti-Ts)\n",
    "\n",
    "\n",
    "\n",
    "x = np.linspace(0,1,100)\n",
    "yaxis = np.zeros((100,1))\n",
    "plt.plot(x,f(x))\n",
    "plt.plot(x,yaxis)\n",
    "plt.xlabel('x [m]')\n",
    "plt.ylabel('Temperature [C]')\n",
    "\n",
    "\n",
    "a = 0\n",
    "b = 1\n",
    "x0 = 0.01\n",
    "tol = 1e-10\n",
    "Nmax = 100\n",
    "depth,ier,n = bisection(f, a, b, tol)\n",
    "print(\"The depth to not freeze is \", depth, \" m\")\n",
    "print(\"Took \", n, \" iterations. \")\n",
    "\n",
    "depth,N,seq = newtons(f,fp,x0,Nmax,tol)\n",
    "print(\"The depth to not freeze is \", depth, \" m\")\n",
    "print(\"Took \", N, \" iterations. \")\n",
    "\n",
    "depth,N,seq = newtons(f,fp,b,Nmax,tol)\n",
    "print(\"The depth to not freeze is \", depth, \" m\")\n",
    "print(\"Took \", N, \" iterations. \")"
   ]
  },
  {
   "cell_type": "code",
   "execution_count": 59,
   "id": "aaf92385-8e75-4028-bad5-83a4afa69f24",
   "metadata": {},
   "outputs": [
    {
     "name": "stdout",
     "output_type": "stream",
     "text": [
      "Newton's Method\n",
      "x0---------,---|x0-x1|-----,log(|x0-x1|)--,N----\n",
      "2.000000000 , 0.319371728 , -0.495703532 ,  1\n",
      "1.680628272 , 0.249889284 , -0.602252367 ,  2\n",
      "1.430738988 , 0.175768032 , -0.755060110 ,  3\n",
      "1.254970956 , 0.093432523 , -1.029501922 ,  4\n",
      "1.161538433 , 0.025185159 , -1.598855310 ,  5\n",
      "1.136353274 , 0.001622746 , -2.789749499 ,  6\n",
      "1.134730528 , 0.000006390 , -5.194509785 ,  7\n",
      "\n",
      "Secant Method\n",
      "x0---------,---|x0-x1|-----,log(|x0-x1|)--,N----\n",
      "2.000000000 , 1.000000000 , 0.000000000 ,  0\n"
     ]
    },
    {
     "ename": "ZeroDivisionError",
     "evalue": "division by zero",
     "output_type": "error",
     "traceback": [
      "\u001b[1;31m---------------------------------------------------------------------------\u001b[0m",
      "\u001b[1;31mZeroDivisionError\u001b[0m                         Traceback (most recent call last)",
      "Cell \u001b[1;32mIn[59], line 15\u001b[0m\n\u001b[0;32m     13\u001b[0m b \u001b[38;5;241m=\u001b[39m \u001b[38;5;241m1\u001b[39m\n\u001b[0;32m     14\u001b[0m \u001b[38;5;28mprint\u001b[39m(\u001b[38;5;124m\"\u001b[39m\u001b[38;5;130;01m\\n\u001b[39;00m\u001b[38;5;124mSecant Method\u001b[39m\u001b[38;5;124m\"\u001b[39m)\n\u001b[1;32m---> 15\u001b[0m xSec,nSec,seqSec \u001b[38;5;241m=\u001b[39m secantPrint(f,a,b,Nmax,tol)\n\u001b[0;32m     16\u001b[0m \u001b[38;5;28mprint\u001b[39m(seqSec)\n",
      "Cell \u001b[1;32mIn[54], line 12\u001b[0m, in \u001b[0;36msecantPrint\u001b[1;34m(f, a, b, Nmax, tol)\u001b[0m\n\u001b[0;32m     10\u001b[0m     p\u001b[38;5;241m.\u001b[39mappend(x0)\n\u001b[0;32m     11\u001b[0m     x0 \u001b[38;5;241m=\u001b[39m x1\n\u001b[1;32m---> 12\u001b[0m     x1 \u001b[38;5;241m=\u001b[39m x0 \u001b[38;5;241m-\u001b[39m (f(x0)\u001b[38;5;241m*\u001b[39m((x1)\u001b[38;5;241m-\u001b[39m(x0)))\u001b[38;5;241m/\u001b[39m(f(x1)\u001b[38;5;241m-\u001b[39mf(x0))\n\u001b[0;32m     13\u001b[0m     n \u001b[38;5;241m=\u001b[39m n\u001b[38;5;241m+\u001b[39m\u001b[38;5;241m1\u001b[39m\n\u001b[0;32m     15\u001b[0m \u001b[38;5;28;01mreturn\u001b[39;00m x0,n,p\n",
      "\u001b[1;31mZeroDivisionError\u001b[0m: division by zero"
     ]
    }
   ],
   "source": [
    "# Problem 5\n",
    "f = lambda x: x**6 - x - 1\n",
    "fp = lambda x: 6*x**5 - 1\n",
    "\n",
    "# using newtons:\n",
    "x0 = 2\n",
    "Nmax = 100\n",
    "tol = 1e-9\n",
    "print(\"Newton's Method\")\n",
    "xNewt,nNewt, seqNewt = newtonsPrint(f,fp,x0,Nmax,tol)\n",
    "\n",
    "a = 2\n",
    "b = 1\n",
    "print(\"\\nSecant Method\")\n",
    "xSec,nSec,seqSec = secantPrint(f,a,b,Nmax,tol)\n",
    "print(seqSec)"
   ]
  },
  {
   "cell_type": "code",
   "execution_count": null,
   "id": "c7c5d86d-78a6-42e5-b0a3-f63d329b8e17",
   "metadata": {},
   "outputs": [],
   "source": []
  },
  {
   "cell_type": "code",
   "execution_count": null,
   "id": "cbac51be-5cbc-4365-b3a4-25d3e738be37",
   "metadata": {},
   "outputs": [],
   "source": []
  },
  {
   "cell_type": "code",
   "execution_count": null,
   "id": "feb932e3-cc58-4f18-97a0-2ac39dfbc38e",
   "metadata": {},
   "outputs": [],
   "source": []
  }
 ],
 "metadata": {
  "kernelspec": {
   "display_name": "Python 3 (ipykernel)",
   "language": "python",
   "name": "python3"
  },
  "language_info": {
   "codemirror_mode": {
    "name": "ipython",
    "version": 3
   },
   "file_extension": ".py",
   "mimetype": "text/x-python",
   "name": "python",
   "nbconvert_exporter": "python",
   "pygments_lexer": "ipython3",
   "version": "3.12.7"
  }
 },
 "nbformat": 4,
 "nbformat_minor": 5
}
