{
 "cells": [
  {
   "cell_type": "code",
   "execution_count": 2,
   "id": "c9a16f95-5a87-412b-b309-32cb31c09957",
   "metadata": {},
   "outputs": [
    {
     "name": "stdout",
     "output_type": "stream",
     "text": [
      "0.5\n",
      "0.5\n",
      "0.75\n",
      "1.125\n",
      "1.6875\n",
      "2.53125\n",
      "3.796875\n",
      "5.6953125\n",
      "8.54296875\n",
      "12.814453125\n",
      "Root in 0.5,2:  31852.811577287503\n",
      "-1\n",
      "-1\n",
      "Root in -1,0.5:  -0.095703125\n"
     ]
    }
   ],
   "source": [
    "import numpy as np\n",
    "import matplotlib.pyplot as plt\n",
    "\n",
    "def f(x):\n",
    "    return (x**2)*(x-1)\n",
    "\n",
    "def bisect(f,x1,x2,a):\n",
    "    # f is function to find roots of, x1 the left bound of the interval, x2 the right bount, a the margin\n",
    "    f1 = 1\n",
    "    N = 0\n",
    "    Nmax = 100\n",
    "\n",
    "    y1 = f(x1)\n",
    "    y2 = f(x2)\n",
    "\n",
    "    f1 = 1\n",
    "    if y1>y2: # Decreasing function\n",
    "        while np.abs(f1)>a:\n",
    "            c =(x2-x1)/2\n",
    "            f1 = f(c)\n",
    "            N +=1\n",
    "            if f1==0:\n",
    "                return f1\n",
    "            if f1> 0:\n",
    "                x1 = c\n",
    "            if f1<0:\n",
    "                x2 = c\n",
    "\n",
    "    if y2>y1: #Increasing function\n",
    "        while np.abs(f1)>a:\n",
    "            c =(x2-x1)/2\n",
    "            f1 = f(c)\n",
    "            N +=1\n",
    "            if N == Nmax:\n",
    "                return f1\n",
    "                \n",
    "            if f1==0:\n",
    "                return f1\n",
    "            if f1> 0:\n",
    "                x2 = c\n",
    "            if f1<0:\n",
    "                x1 = c\n",
    "        \n",
    "\n",
    "# x = (0.5,2)\n",
    "x1 = 0.5\n",
    "x2 = 2\n",
    "\n",
    "root1 = bisect(f,x1,x2,0.1)\n",
    "print('Root in 0.5,2: ',root1)\n",
    "\n",
    "# x = (-1,0.5)\n",
    "x1 = -1\n",
    "x2 = 0.5\n",
    "\n",
    "root2 = bisect(f,x1,x2,0.1)\n",
    "print('Root in -1,0.5: ',root2)\n",
    "        "
   ]
  },
  {
   "cell_type": "code",
   "execution_count": null,
   "id": "a52a404e-8073-4bfc-9830-88fdfd45ecd8",
   "metadata": {},
   "outputs": [],
   "source": [
    "while np.abs(f1)>a and N<Nmax:\n",
    "        c = (x2-x1)/2\n",
    "        f1 = f(c)\n",
    "        N += 1\n",
    "        print(x1)\n",
    "        if f1> 0:\n",
    "            x1 = x1 + x1/2\n",
    "        if f1 == 0:\n",
    "            return f1\n",
    "        else: \n",
    "            \n",
    "    return f1"
   ]
  },
  {
   "cell_type": "code",
   "execution_count": null,
   "id": "94eb86f4-4f83-4699-ad33-0b15a053ae58",
   "metadata": {},
   "outputs": [],
   "source": []
  }
 ],
 "metadata": {
  "kernelspec": {
   "display_name": "Python 3 (ipykernel)",
   "language": "python",
   "name": "python3"
  },
  "language_info": {
   "codemirror_mode": {
    "name": "ipython",
    "version": 3
   },
   "file_extension": ".py",
   "mimetype": "text/x-python",
   "name": "python",
   "nbconvert_exporter": "python",
   "pygments_lexer": "ipython3",
   "version": "3.12.7"
  }
 },
 "nbformat": 4,
 "nbformat_minor": 5
}
