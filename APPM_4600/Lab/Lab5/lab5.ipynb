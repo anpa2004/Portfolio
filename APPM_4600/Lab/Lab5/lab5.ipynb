{
 "cells": [
  {
   "cell_type": "code",
   "execution_count": 1,
   "id": "651e6f09-b4c1-468d-a4ce-7dd356a1d4b0",
   "metadata": {},
   "outputs": [],
   "source": [
    "import numpy as np\n",
    "import matplotlib.pyplot as plt\n",
    "\n",
    "\n",
    "\n",
    "def newtons(f,fp,x0,Nmax,tol):\n",
    "    N = 0\n",
    "    if fp(x0) == 0:\n",
    "        print(\"Error: f'(x)=0. Method Failed. Try another x0 or method.\")\n",
    "        print(\"Method failed when n = \", N, \", x = \", x0)\n",
    "    x1 = x0 - f(x0)/fp(x0)\n",
    "    N = 1\n",
    "    seq = []\n",
    "\n",
    "    while np.abs(x1-x0)>tol and N<Nmax:\n",
    "        seq.append(x0)\n",
    "        x0 = x1\n",
    "        x1 = x1 = x0 - f(x0)/fp(x0)\n",
    "        N = N+1\n",
    "\n",
    "        if fp(x1) == 0:\n",
    "            print(\"Error: f'(x)=0. Method Failed. Try another x0 or method.\")\n",
    "            print(\"Method failed when n = \", N,\", x = \", x1)\n",
    "            break\n",
    "    return x1,N,seq\n",
    "\n",
    "def bisection(f, a, b, tol):\n",
    "\n",
    "    fa = f(a)\n",
    "    fb = f(b);\n",
    "\n",
    "    if (fa * fb > 0):\n",
    "        ier = 1\n",
    "        astar = a\n",
    "\n",
    "        return [astar, ier]\n",
    "\n",
    "    #   verify end points are not a root\n",
    "    if (fa == 0):\n",
    "        astar = a\n",
    "        ier = 0\n",
    "\n",
    "        return [astar, ier]\n",
    "\n",
    "    if (fb == 0):\n",
    "        astar = b\n",
    "        ier = 0\n",
    "\n",
    "        return [astar, ier]\n",
    "\n",
    "    count = 0\n",
    "    d = 0.5 * (a + b)\n",
    "    while (abs(d - a) > tol):\n",
    "        fd = f(d)\n",
    "        print(\"d = \",d,\", n = \", count)\n",
    "        if (fd == 0):\n",
    "            astar = d\n",
    "            ier = 0\n",
    "            print(astar)\n",
    "            return [astar, ier]\n",
    "        if (fa * fd < 0):\n",
    "            b = d\n",
    "        else:\n",
    "            a = d\n",
    "            fa = fd\n",
    "        d = 0.5 * (a + b)\n",
    "        count = count + 1\n",
    "    #      print('abs(d-a) = ', abs(d-a))\n",
    "\n",
    "    astar = d\n",
    "\n",
    "    ier = 0\n",
    "\n",
    "    return [astar, ier]\n"
   ]
  },
  {
   "cell_type": "code",
   "execution_count": 2,
   "id": "4009598a-444d-44cd-9955-8d9d53267fae",
   "metadata": {},
   "outputs": [],
   "source": [
    "def hybrid(f,fp,a,b,Nmax,tol):\n",
    "    basin = 1e-1\n",
    "    x0,ier = bisection(f, a, b, basin)\n",
    "\n",
    "    root,N,seq = newtons(f,fp,x0,Nmax,tol)\n",
    "    return root\n",
    "\n",
    "# Functions\n",
    "f = lambda x: np.exp(x**2+7*x-30)-1\n",
    "fp = lambda x: (2*x + 7)*np.exp(x**2+7*x-30)\n",
    "fpp = lambda x: 2*f(x) + ((2*x+7)**2)*f(x)\n",
    " "
   ]
  },
  {
   "cell_type": "code",
   "execution_count": 3,
   "id": "0b3efd58-35f7-4823-b094-239c0a83edba",
   "metadata": {
    "scrolled": true
   },
   "outputs": [
    {
     "name": "stdout",
     "output_type": "stream",
     "text": [
      "d =  3.25 , n =  0\n",
      "d =  2.625 , n =  1\n",
      "d =  2.9375 , n =  2\n",
      "d =  3.09375 , n =  3\n",
      "d =  3.015625 , n =  4\n",
      "d =  2.9765625 , n =  5\n",
      "d =  2.99609375 , n =  6\n",
      "d =  3.005859375 , n =  7\n",
      "d =  3.0009765625 , n =  8\n",
      "d =  2.99853515625 , n =  9\n",
      "d =  2.999755859375 , n =  10\n",
      "d =  3.0003662109375 , n =  11\n",
      "d =  3.00006103515625 , n =  12\n",
      "d =  2.999908447265625 , n =  13\n",
      "d =  2.9999847412109375 , n =  14\n",
      "d =  3.0000228881835938 , n =  15\n",
      "d =  3.0000038146972656 , n =  16\n",
      "d =  2.9999942779541016 , n =  17\n",
      "d =  2.9999990463256836 , n =  18\n",
      "d =  3.0000014305114746 , n =  19\n",
      "d =  3.000000238418579 , n =  20\n",
      "d =  2.9999996423721313 , n =  21\n",
      "d =  2.9999999403953552 , n =  22\n",
      "d =  3.000000089406967 , n =  23\n",
      "d =  3.000000014901161 , n =  24\n",
      "d =  2.999999977648258 , n =  25\n",
      "d =  2.9999999962747097 , n =  26\n",
      "d =  3.0000000055879354 , n =  27\n",
      "d =  3.0000000009313226 , n =  28\n",
      "d =  2.999999998603016 , n =  29\n",
      "d =  2.9999999997671694 , n =  30\n"
     ]
    }
   ],
   "source": [
    "# Part 1: Using just bisection\n",
    "a = 2\n",
    "b = 4.5\n",
    "tol = 1e-9\n",
    "root_bisection,ier = bisection(f, a, b, tol)"
   ]
  },
  {
   "cell_type": "code",
   "execution_count": 4,
   "id": "c82eae37-37df-4301-bff5-4598b58e2ecb",
   "metadata": {},
   "outputs": [
    {
     "name": "stdout",
     "output_type": "stream",
     "text": [
      "[4.5, 4.437500000022386, 4.374507874099403, 4.311011842768775, 4.246999649917168, 4.182458535553914, 4.117375206872371, 4.051735808009389, 3.985525889935255, 3.9187303847322847, 3.8513335962785384, 3.783319240592776, 3.714670627176572, 3.6453712314277933, 3.575406341873887, 3.5047676498320306, 3.433465873894194, 3.3615652435573637, 3.2892769212071276, 3.217207521928027, 3.1469885531512163, 3.0826580701958592, 3.0324598637065905, 3.0060576927233336, 3.00023519918265, 3.0000003634601877]\n",
      "N =  27\n"
     ]
    }
   ],
   "source": [
    "# Newtons Method only\n",
    "x0 = 4.5\n",
    "Nmax = 100\n",
    "root_newtons,n,seq = newtons(f,fp,x0,Nmax,tol)\n",
    "print(seq)\n",
    "print(\"N = \", n)"
   ]
  },
  {
   "cell_type": "code",
   "execution_count": 5,
   "id": "e244eabc-f7bb-42d1-b897-07a8084c1e75",
   "metadata": {},
   "outputs": [
    {
     "name": "stdout",
     "output_type": "stream",
     "text": [
      "d =  3.25 , n =  0\n",
      "d =  2.625 , n =  1\n",
      "d =  2.9375 , n =  2\n",
      "d =  3.09375 , n =  3\n"
     ]
    }
   ],
   "source": [
    "# Hybrid Method\n",
    "root_hybrid = hybrid(f,fp,a,b,Nmax,tol)"
   ]
  },
  {
   "cell_type": "code",
   "execution_count": 6,
   "id": "396b6675-408f-4ec3-86bd-02f18edb0191",
   "metadata": {},
   "outputs": [],
   "source": [
    "# Design a hybrid method that has a smarter convergence criteria\n",
    "g = lambda x: x - f(x)/fp(x)\n",
    "\n",
    "\n",
    "def bisection2(f,fp,fpp, a, b, tol_stop):\n",
    "    gp = lambda x: fpp(x)/(fp(x)**2)\n",
    "    fa = f(a)\n",
    "    fb = f(b);\n",
    "    if (fa * fb > 0):\n",
    "        ier = 1\n",
    "        astar = a\n",
    "        return [astar, ier]\n",
    "    #   verify end points are not a root\n",
    "    if (fa == 0):\n",
    "        astar = a\n",
    "        ier = 0\n",
    "        return [astar, ier]\n",
    "    if (fb == 0):\n",
    "        astar = b\n",
    "        ier = 0\n",
    "        return [astar, ier]\n",
    "    count = 0\n",
    "    d = 0.5 * (a + b)\n",
    "    while (gp(a) > tol_stop and gp(b)>tol_stop):\n",
    "        fd = f(d)\n",
    "        print(\"d = \",d,\", n = \", count)\n",
    "        if (fd == 0):\n",
    "            astar = d\n",
    "            ier = 0\n",
    "            print(astar)\n",
    "            return [astar, ier]\n",
    "        if (fa * fd < 0):\n",
    "            b = d\n",
    "        else:\n",
    "            a = d\n",
    "            fa = fd\n",
    "        d = 0.5 * (a + b)\n",
    "        count = count + 1\n",
    "    #      print('abs(d-a) = ', abs(d-a))\n",
    "    astar = d\n",
    "    ier = 0\n",
    "    return [astar, ier,count]\n",
    "\n",
    "\n",
    "\n",
    "def hybrid2(f,fp,fpp,a,b,Nmax,tol,tol_stop):\n",
    "    \n",
    "    x0,ier,count = bisection2(f,fp,fpp, a, b, tol_stop)\n",
    "    print(count)\n",
    "    root,N,seq = newtons(f,fp,x0,Nmax,tol)\n",
    "    iterations = N + count\n",
    "    return root, iterations"
   ]
  },
  {
   "cell_type": "code",
   "execution_count": 7,
   "id": "6324efb2-8cdc-4910-8383-579a4616bbcf",
   "metadata": {},
   "outputs": [
    {
     "name": "stdout",
     "output_type": "stream",
     "text": [
      "0\n",
      "root at x =  3.0 , num iterations:  8\n"
     ]
    }
   ],
   "source": [
    "# Trying the new hybrid method\n",
    "tol_stop = 1e-3\n",
    "root_hybrid2, iterations = hybrid2(f,fp,fpp,a,b,Nmax,tol,tol_stop)\n",
    "print(\"root at x = \",root_hybrid2,\", num iterations: \",iterations)\n"
   ]
  },
  {
   "cell_type": "code",
   "execution_count": 8,
   "id": "9cf79079-420d-490f-b811-c860de8ff95d",
   "metadata": {},
   "outputs": [
    {
     "name": "stdout",
     "output_type": "stream",
     "text": [
      "0\n",
      "root at x =  1.7584845041014774 , num iterations:  7\n"
     ]
    }
   ],
   "source": [
    "# Validating with other functions\n",
    "f = lambda x: 2+x-x**4 + np.exp(x)\n",
    "fp = lambda x: 1 - 4*x**3 + np.exp(x)\n",
    "fpp = lambda x: -12*x**2 + np.exp(x)\n",
    "\n",
    "tol_stop = 1e-3\n",
    "tol = 1e-9\n",
    "Nmax = 100\n",
    "a = 4\n",
    "b = 10\n",
    "\n",
    "root_hybrid2_1, iterations_1 = hybrid2(f,fp,fpp,a,b,Nmax,tol,tol_stop)\n",
    "print(\"root at x = \",root_hybrid2_1,\", num iterations: \",iterations_1)\n",
    "\n"
   ]
  },
  {
   "cell_type": "code",
   "execution_count": null,
   "id": "ce28a534-7036-4354-b2fb-3bce7c419bcf",
   "metadata": {},
   "outputs": [],
   "source": []
  }
 ],
 "metadata": {
  "kernelspec": {
   "display_name": "Python 3 (ipykernel)",
   "language": "python",
   "name": "python3"
  },
  "language_info": {
   "codemirror_mode": {
    "name": "ipython",
    "version": 3
   },
   "file_extension": ".py",
   "mimetype": "text/x-python",
   "name": "python",
   "nbconvert_exporter": "python",
   "pygments_lexer": "ipython3",
   "version": "3.12.7"
  }
 },
 "nbformat": 4,
 "nbformat_minor": 5
}
