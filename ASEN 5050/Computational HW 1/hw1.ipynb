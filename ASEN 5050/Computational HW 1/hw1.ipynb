{
 "cells": [
  {
   "cell_type": "markdown",
   "id": "b67b917f",
   "metadata": {},
   "source": [
    "#### Problem 1\n",
    "###### Write a computer program “package” that will take an initial spacecraft position and velocity vector, ro, vo, at an initial time to, and predict the future/past position and velocity of the spacecraft at an arbitrary time t\n",
    "\n",
    "###### To accomplish this: \n",
    "###### a: Compute the orbital elements form an arbitrary position vector and velocity vector\n",
    "###### b: Solve kepler's equation for an arbitrary time t to find the corresponding value of true anomaly\n",
    "###### c: Using the orbital elements, specify the position and velocity vectors at the new value of true anomaly"
   ]
  },
  {
   "cell_type": "code",
   "execution_count": null,
   "id": "38710071",
   "metadata": {},
   "outputs": [
    {
     "name": "stderr",
     "output_type": "stream",
     "text": [
      "C:\\Users\\ajpat\\AppData\\Local\\Temp\\ipykernel_34880\\750554326.py:36: RuntimeWarning: invalid value encountered in arccos\n",
      "  RAAN = np.arccos(np.dot(N_vec,x_vec))\n"
     ]
    },
    {
     "ename": "AttributeError",
     "evalue": "'dict' object has no attribute 'inc'",
     "output_type": "error",
     "traceback": [
      "\u001b[31m---------------------------------------------------------------------------\u001b[39m",
      "\u001b[31mAttributeError\u001b[39m                            Traceback (most recent call last)",
      "\u001b[36mCell\u001b[39m\u001b[36m \u001b[39m\u001b[32mIn[3]\u001b[39m\u001b[32m, line 71\u001b[39m\n\u001b[32m     68\u001b[39m v0_vec = np.array([-\u001b[32m5\u001b[39m,\u001b[32m5\u001b[39m,\u001b[32m0\u001b[39m]) \u001b[38;5;66;03m#km/s\u001b[39;00m\n\u001b[32m     70\u001b[39m elements = orbital_elements(r0_vec,v0_vec,mu)\n\u001b[32m---> \u001b[39m\u001b[32m71\u001b[39m \u001b[38;5;28mprint\u001b[39m(\u001b[43melements\u001b[49m\u001b[43m.\u001b[49m\u001b[43minc\u001b[49m)\n",
      "\u001b[31mAttributeError\u001b[39m: 'dict' object has no attribute 'inc'"
     ]
    }
   ],
   "source": [
    "import numpy as np\n",
    "from integrator import ode45\n",
    "\n",
    "def orbital_elements(r_vec,v_vec,mu):\n",
    "    \"\"\" \n",
    "    This function takes in position r, velocity v and gravitational parameter mu and reterns keplerian elements\n",
    "\n",
    "    Args:\n",
    "        r_vec: a 3 element vector for position in inertial coordinate frame\n",
    "        v_vec: a 3 element vector for velocity in inertial coordinate frame\n",
    "        mu: gravitational parameter in units matching r and v\n",
    "\n",
    "    Returns:\n",
    "        ele: a dict containing all the orbital elements at the time of the position and velocity vectors\n",
    "    \"\"\"\n",
    "\n",
    "    # Principle directions\n",
    "    x_vec = np.array([1,0,0])\n",
    "    y_vec = np.array([0,1,0])\n",
    "    z_vec = np.array([0,0,1])\n",
    "\n",
    "    # Scalar quantities\n",
    "    r = np.linalg.norm(r_vec)\n",
    "    v = np.linalg.norm(v_vec)\n",
    "\n",
    "    # Calculating angular momentum\n",
    "    h_vec = np.cross(r_vec,v_vec)\n",
    "    h = np.linalg.norm(h_vec)\n",
    "    h_hat = h_vec/h\n",
    "\n",
    "    # Finding inclination\n",
    "    i = np.arccos(np.dot(h_hat,z_vec))\n",
    "\n",
    "    # Finding RAAN\n",
    "    N_vec = np.cross(z_vec,h_vec)\n",
    "    RAAN = np.arccos(np.dot(N_vec,x_vec))\n",
    "\n",
    "    # Quadrant correction\n",
    "    if N_vec[1] < 0:\n",
    "        RAAN = 2*np.pi - RAAN\n",
    "\n",
    "    # Finding eccentricity\n",
    "    e_vec = np.cross(v_vec,h_vec)/mu - r_vec/r\n",
    "    e = np.linalg.norm(e_vec)\n",
    "\n",
    "    # Finding arg periapsis\n",
    "    omega = np.arccos(np.dot(e_vec,N_vec)/(e*np.linalg.norm(N_vec)))\n",
    "\n",
    "    # quadrant correction\n",
    "    if e_vec[2] <0:\n",
    "        omega = 2*np.pi - omega\n",
    "\n",
    "    # Finding true anomaly\n",
    "    nu = np.arccos(np.dot(e_vec,r_vec)/(e*r))\n",
    "\n",
    "    # Quadrant correction\n",
    "    # finding radial velocity\n",
    "    vr = np.dot(v_vec,r_vec/r)\n",
    "\n",
    "    if vr<0:\n",
    "        nu = 2*np.pi - nu\n",
    "\n",
    "    ele = {\"inc\": i,\"raan\":RAAN,\"ecc\":e,\"argp\":omega,\"nu\":nu}\n",
    "    return ele\n",
    "\n",
    "mu = 4e5 # km^3/s^2\n",
    "r0_vec = np.array([6e3,6e3,6e3]) # km\n",
    "v0_vec = np.array([-5,5,0]) #km/s\n",
    "\n",
    "elements = orbital_elements(r0_vec,v0_vec,mu)\n",
    "print(elements)\n",
    "\n",
    "\n"
   ]
  }
 ],
 "metadata": {
  "kernelspec": {
   "display_name": "Python 3",
   "language": "python",
   "name": "python3"
  },
  "language_info": {
   "codemirror_mode": {
    "name": "ipython",
    "version": 3
   },
   "file_extension": ".py",
   "mimetype": "text/x-python",
   "name": "python",
   "nbconvert_exporter": "python",
   "pygments_lexer": "ipython3",
   "version": "3.13.7"
  }
 },
 "nbformat": 4,
 "nbformat_minor": 5
}
